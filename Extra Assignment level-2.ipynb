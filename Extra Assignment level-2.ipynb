{
 "cells": [
  {
   "cell_type": "code",
   "execution_count": 1,
   "id": "07a151ae-bf0e-4760-a382-a9d3ac56a1b1",
   "metadata": {},
   "outputs": [
    {
     "name": "stdout",
     "output_type": "stream",
     "text": [
      "0\n",
      "1\n",
      "2\n",
      "3\n",
      "4\n",
      "5\n",
      "6\n",
      "7\n",
      "8\n",
      "9\n",
      "10\n",
      "11\n",
      "12\n",
      "13\n",
      "14\n",
      "15\n",
      "16\n",
      "17\n",
      "18\n",
      "19\n"
     ]
    }
   ],
   "source": [
    "for i in range(0,20):\n",
    "    print(i)"
   ]
  },
  {
   "cell_type": "code",
   "execution_count": 5,
   "id": "eda110c0-84e6-469f-b43b-776cefb21b80",
   "metadata": {},
   "outputs": [
    {
     "name": "stdout",
     "output_type": "stream",
     "text": [
      "10 11 12 13 14 15 16 17 18 19 "
     ]
    }
   ],
   "source": [
    "for i in range(10,20):\n",
    "    print(i, end=\" \")\n",
    "  "
   ]
  },
  {
   "cell_type": "code",
   "execution_count": 7,
   "id": "d59db4a3-5e77-4ad1-a8b0-49339ba28c25",
   "metadata": {},
   "outputs": [
    {
     "name": "stdout",
     "output_type": "stream",
     "text": [
      "[10, 20, 14, 55, 43, 87, 76]\n",
      "Number of items in the List2:  7\n"
     ]
    }
   ],
   "source": [
    "mylist=[10, 20, 14, 55, 43, 87, 76]\n",
    "print(mylist)\n",
    "print(\"Number of items in the List2: \", len(mylist))"
   ]
  },
  {
   "cell_type": "code",
   "execution_count": 11,
   "id": "bafb63eb-4fc3-4464-ad14-674c1ad749ac",
   "metadata": {},
   "outputs": [
    {
     "name": "stdout",
     "output_type": "stream",
     "text": [
      "Artificial Intelligence\n",
      "A\n",
      "r\n",
      "t\n",
      "i\n",
      "f\n",
      "i\n",
      "c\n",
      "i\n",
      "a\n",
      "l\n",
      " \n",
      "I\n",
      "n\n",
      "t\n",
      "e\n",
      "l\n",
      "l\n",
      "i\n",
      "g\n",
      "e\n",
      "n\n",
      "c\n",
      "e\n"
     ]
    }
   ],
   "source": [
    "mylist=\"Artificial Intelligence\"\n",
    "print(mylist)\n",
    "for i in mylist:\n",
    "    print(i)"
   ]
  },
  {
   "cell_type": "code",
   "execution_count": 12,
   "id": "c9ec2f29-7334-4752-ace8-0172db2a31d5",
   "metadata": {},
   "outputs": [
    {
     "name": "stdout",
     "output_type": "stream",
     "text": [
      "-Your Name-\n",
      "-Your Age-\n",
      "-Your Profession-\n"
     ]
    }
   ],
   "source": [
    "print(\"-Your Name-\")\n",
    "print(\"-Your Age-\")\n",
    "print(\"-Your Profession-\")"
   ]
  },
  {
   "cell_type": "code",
   "execution_count": 13,
   "id": "c3b2f836-82d4-4726-9700-f25b0f3eb562",
   "metadata": {},
   "outputs": [
    {
     "name": "stdout",
     "output_type": "stream",
     "text": [
      "(1, 'Welcome', 2, 'Hope')\n"
     ]
    }
   ],
   "source": [
    "tup=(1, 'Welcome', 2, 'Hope') \n",
    "print(tup)"
   ]
  },
  {
   "cell_type": "code",
   "execution_count": 14,
   "id": "fa2a9f23-3f35-49db-976e-4b0629f6bf92",
   "metadata": {},
   "outputs": [
    {
     "name": "stdout",
     "output_type": "stream",
     "text": [
      "((0, 1, 2, 3), ('python', 'HOPE'))\n"
     ]
    }
   ],
   "source": [
    "tup1 = (0, 1, 2, 3)\n",
    "tup2 = ('python', 'HOPE')\n",
    "tup3 = (tup1,tup2)\n",
    "print(tup3)"
   ]
  },
  {
   "cell_type": "code",
   "execution_count": 26,
   "id": "a5045886-933b-404d-be08-a59a92e272ca",
   "metadata": {},
   "outputs": [
    {
     "name": "stdout",
     "output_type": "stream",
     "text": [
      "(10, 20, 14, 55, 43, 87, 76)\n",
      "10 is Even Number \n",
      "20 is Even Number \n",
      "14 is Even Number \n",
      "76 is Even Number \n"
     ]
    }
   ],
   "source": [
    "tup=(10, 20, 14, 55, 43, 87, 76)\n",
    "print(tup)\n",
    "for i in tup:\n",
    "    if(i%2==0):\n",
    "        print(i ,\"is Even Number \")  "
   ]
  },
  {
   "cell_type": "code",
   "execution_count": 27,
   "id": "9d38908f-638e-4ab8-b8df-409235635498",
   "metadata": {},
   "outputs": [
    {
     "name": "stdout",
     "output_type": "stream",
     "text": [
      "(10, 20, 14, 55, 43, 87, 76)\n",
      "55 is Odd Number \n",
      "43 is Odd Number \n",
      "87 is Odd Number \n"
     ]
    }
   ],
   "source": [
    "  tup=(10, 20, 14, 55, 43, 87, 76)\n",
    "print(tup)\n",
    "for i in tup:\n",
    "    if(i%2==1):\n",
    "        print(i ,\"is Odd Number \")   "
   ]
  },
  {
   "cell_type": "code",
   "execution_count": null,
   "id": "92234bb8-7151-486a-b920-c1f8b2d21d7d",
   "metadata": {},
   "outputs": [],
   "source": []
  }
 ],
 "metadata": {
  "kernelspec": {
   "display_name": "Python 3 (ipykernel)",
   "language": "python",
   "name": "python3"
  },
  "language_info": {
   "codemirror_mode": {
    "name": "ipython",
    "version": 3
   },
   "file_extension": ".py",
   "mimetype": "text/x-python",
   "name": "python",
   "nbconvert_exporter": "python",
   "pygments_lexer": "ipython3",
   "version": "3.12.7"
  }
 },
 "nbformat": 4,
 "nbformat_minor": 5
}
