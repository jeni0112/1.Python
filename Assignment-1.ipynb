{
 "cells": [
  {
   "cell_type": "code",
   "execution_count": 1,
   "id": "6fa5ae1c-c1bb-43de-9c74-6fd5d965f323",
   "metadata": {},
   "outputs": [
    {
     "name": "stdout",
     "output_type": "stream",
     "text": [
      "Welcome To Assignment-1\n"
     ]
    }
   ],
   "source": [
    "print(\"Welcome To Assignment-1\")"
   ]
  },
  {
   "cell_type": "code",
   "execution_count": 14,
   "id": "35bb3521-7b8a-4762-bd35-523d5ba2edff",
   "metadata": {},
   "outputs": [
    {
     "name": "stdin",
     "output_type": "stream",
     "text": [
      "Num1 10\n",
      "Num2 30\n"
     ]
    },
    {
     "name": "stdout",
     "output_type": "stream",
     "text": [
      "Add= 40\n"
     ]
    }
   ],
   "source": [
    "Num1=int(input(\"Num1\"))\n",
    "Num2=int(input(\"Num2\"))\n",
    "Add=Num1+Num2\n",
    "print(\"Add=\",Add)"
   ]
  },
  {
   "cell_type": "code",
   "execution_count": 15,
   "id": "5fc83bb7-226f-4308-85e8-241f0240792c",
   "metadata": {},
   "outputs": [
    {
     "name": "stdin",
     "output_type": "stream",
     "text": [
      "Enter the BMI Index: 34\n"
     ]
    },
    {
     "name": "stdout",
     "output_type": "stream",
     "text": [
      "Very OverWeight\n"
     ]
    }
   ],
   "source": [
    "BMI=int(input(\"Enter the BMI Index:\"))\n",
    "if(BMI<18.5):\n",
    "    print(\"UnderWeight\")\n",
    "elif(BMI<25):\n",
    "    print(\"Normal\")\n",
    "elif(BMI<30):\n",
    "    print(\"OverWeight\")\n",
    "elif(BMI<35):\n",
    "    print(\"Very OverWeight\")\n",
    "else:\n",
    "    print(\"Obese\")\n"
   ]
  },
  {
   "cell_type": "code",
   "execution_count": 19,
   "id": "7d8ff55b-eb15-496a-a0b1-9628a37f5baa",
   "metadata": {},
   "outputs": [
    {
     "name": "stdin",
     "output_type": "stream",
     "text": [
      "Enter the weight in Kg: 61\n",
      "Enter the height in Cm: 158\n"
     ]
    },
    {
     "name": "stdout",
     "output_type": "stream",
     "text": [
      "BMI is  24.435186668803073\n",
      "Normal\n"
     ]
    }
   ],
   "source": [
    "Weight=int(input(\"Enter the weight in Kg:\"))\n",
    "Height=int(input(\"Enter the height in Cm:\"))\n",
    "Height1=Height/100\n",
    "BMI=Weight/(Height1*Height1)\n",
    "print(\"BMI is \",BMI)\n",
    "if(BMI<18.5):\n",
    "    print(\"UnderWeight\")\n",
    "elif(BMI<25):\n",
    "    print(\"Normal\")\n",
    "elif(BMI<30):\n",
    "    print(\"OverWeight\")\n",
    "elif(BMI<35):\n",
    "    print(\"Very OverWeight\")\n",
    "else:\n",
    "    print(\"Obese\")\n"
   ]
  },
  {
   "cell_type": "code",
   "execution_count": null,
   "id": "d8cb3bf2-1e9a-44d7-bb14-c0a481452be5",
   "metadata": {},
   "outputs": [],
   "source": []
  }
 ],
 "metadata": {
  "kernelspec": {
   "display_name": "Python 3 (ipykernel)",
   "language": "python",
   "name": "python3"
  },
  "language_info": {
   "codemirror_mode": {
    "name": "ipython",
    "version": 3
   },
   "file_extension": ".py",
   "mimetype": "text/x-python",
   "name": "python",
   "nbconvert_exporter": "python",
   "pygments_lexer": "ipython3",
   "version": "3.12.7"
  }
 },
 "nbformat": 4,
 "nbformat_minor": 5
}
