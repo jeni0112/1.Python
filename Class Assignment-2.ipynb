{
 "cells": [
  {
   "cell_type": "code",
   "execution_count": 3,
   "id": "24344693-e82e-4033-9d05-945e908039ba",
   "metadata": {},
   "outputs": [],
   "source": [
    "from AllFunctions import AllFunctions"
   ]
  },
  {
   "cell_type": "code",
   "execution_count": 4,
   "id": "f1552d16-2490-44ed-9aaf-6abdfc46ca31",
   "metadata": {},
   "outputs": [
    {
     "name": "stdout",
     "output_type": "stream",
     "text": [
      "Sub-fields in AI are: \n",
      "Machine Learning\n",
      "Neural Networks\n",
      "Vision\n",
      "Robotics\n",
      "Speech Processing\n",
      "Natural Language Processing\n"
     ]
    }
   ],
   "source": [
    "AllFunctions.Subfields()"
   ]
  },
  {
   "cell_type": "code",
   "execution_count": 5,
   "id": "4154688b-a65c-464c-b415-33b20d1445ca",
   "metadata": {},
   "outputs": [
    {
     "name": "stdin",
     "output_type": "stream",
     "text": [
      "Enter The Number:  56\n"
     ]
    },
    {
     "name": "stdout",
     "output_type": "stream",
     "text": [
      "56 is Even Number \n"
     ]
    }
   ],
   "source": [
    "AllFunctions.OddEven()"
   ]
  },
  {
   "cell_type": "code",
   "execution_count": 6,
   "id": "70eb9cd7-b7a1-4713-a8e8-9c9051c0254c",
   "metadata": {},
   "outputs": [
    {
     "name": "stdin",
     "output_type": "stream",
     "text": [
      "Your Gender :  Female\n",
      "Your Age :  15\n"
     ]
    },
    {
     "name": "stdout",
     "output_type": "stream",
     "text": [
      "Not Eligible\n"
     ]
    }
   ],
   "source": [
    "AllFunctions.Eligible()"
   ]
  },
  {
   "cell_type": "code",
   "execution_count": 7,
   "id": "bdf31fa0-7034-4d3a-bfbc-347abe36b1cf",
   "metadata": {},
   "outputs": [
    {
     "name": "stdin",
     "output_type": "stream",
     "text": [
      "Subject1: 98\n",
      "Subject2: 99\n",
      "Subject3: 99\n",
      "Subject4: 96\n",
      "Subject5: 93\n"
     ]
    },
    {
     "name": "stdout",
     "output_type": "stream",
     "text": [
      "Total :  485\n",
      "Percentage :  97.0\n"
     ]
    }
   ],
   "source": [
    "AllFunctions.Percentage()"
   ]
  },
  {
   "cell_type": "code",
   "execution_count": 8,
   "id": "dcde0de9-056e-48a1-b642-dae20084aae4",
   "metadata": {},
   "outputs": [
    {
     "name": "stdin",
     "output_type": "stream",
     "text": [
      "Height :  10\n",
      "Breadth:  20\n"
     ]
    },
    {
     "name": "stdout",
     "output_type": "stream",
     "text": [
      "Area formula: (Height*Breadth)/2\n",
      "Area of Triangle: 100.0\n"
     ]
    },
    {
     "name": "stdin",
     "output_type": "stream",
     "text": [
      "Height1 :  2\n",
      "Height2 :  4\n",
      "Breadth :  4\n"
     ]
    },
    {
     "name": "stdout",
     "output_type": "stream",
     "text": [
      "Perimeter formula: Height1+Height2+Breadth\n",
      "Perimeter of Triangle:  10\n"
     ]
    }
   ],
   "source": [
    "AllFunctions.Triangle()"
   ]
  },
  {
   "cell_type": "code",
   "execution_count": null,
   "id": "4a05b5ef-83a9-4f5b-8a2e-1c4eef1089e6",
   "metadata": {},
   "outputs": [],
   "source": []
  }
 ],
 "metadata": {
  "kernelspec": {
   "display_name": "Python 3 (ipykernel)",
   "language": "python",
   "name": "python3"
  },
  "language_info": {
   "codemirror_mode": {
    "name": "ipython",
    "version": 3
   },
   "file_extension": ".py",
   "mimetype": "text/x-python",
   "name": "python",
   "nbconvert_exporter": "python",
   "pygments_lexer": "ipython3",
   "version": "3.12.7"
  }
 },
 "nbformat": 4,
 "nbformat_minor": 5
}
