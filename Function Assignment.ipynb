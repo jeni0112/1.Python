{
 "cells": [
  {
   "cell_type": "code",
   "execution_count": 31,
   "id": "fd180552-3f4d-44e2-b3a2-889548f16f9e",
   "metadata": {},
   "outputs": [],
   "source": [
    "def Subfields():\n",
    "    print(\"Sub-fields in AI are: \")\n",
    "    list1=['Machine Learning','Neural Networks','Vision,Robotics','Speech Processing','Natural Language Processing']\n",
    "    for i in list1:\n",
    "        print(i)"
   ]
  },
  {
   "cell_type": "code",
   "execution_count": 32,
   "id": "71c89479-5695-41c7-873c-79d5880b4a5e",
   "metadata": {},
   "outputs": [
    {
     "name": "stdout",
     "output_type": "stream",
     "text": [
      "Sub-fields in AI are: \n",
      "Machine Learning\n",
      "Neural Networks\n",
      "Vision,Robotics\n",
      "Speech Processing\n",
      "Natural Language Processing\n"
     ]
    }
   ],
   "source": [
    "Subfields()"
   ]
  },
  {
   "cell_type": "code",
   "execution_count": 10,
   "id": "bd8d5c8b-d9d0-49ee-bd70-3edafeaf0968",
   "metadata": {},
   "outputs": [],
   "source": [
    "def OddEven():\n",
    "    num=int(input(\"Enter The Number: \"))\n",
    "    if(num%2==0):\n",
    "        print(num ,\"is Even Number \") \n",
    "    else:\n",
    "        print(num ,\"is Odd Number \") \n",
    "        "
   ]
  },
  {
   "cell_type": "code",
   "execution_count": 13,
   "id": "b088b537-fde3-4cd0-b94b-2c9507a9812f",
   "metadata": {},
   "outputs": [
    {
     "name": "stdin",
     "output_type": "stream",
     "text": [
      "Enter The Number:  52452\n"
     ]
    },
    {
     "name": "stdout",
     "output_type": "stream",
     "text": [
      "52452 is Even Number \n"
     ]
    }
   ],
   "source": [
    "OddEven()"
   ]
  },
  {
   "cell_type": "code",
   "execution_count": 20,
   "id": "ce86a8de-449f-4759-a95c-1e69866fb026",
   "metadata": {},
   "outputs": [],
   "source": [
    "def Eligible():\n",
    "    gender=input(\"Your Gender : \")\n",
    "    age=int(input(\"Your Age : \"))\n",
    "    if gender == \"Male\" and age>20:\n",
    "        print(\"Eligible\")\n",
    "    elif gender == \"Female\" and age>17:\n",
    "        print(\"Eligible\")\n",
    "    else:\n",
    "        print(\"Not Eligible\")"
   ]
  },
  {
   "cell_type": "code",
   "execution_count": 21,
   "id": "bdef6d38-960d-4ae5-8465-0f19593e1e96",
   "metadata": {},
   "outputs": [
    {
     "name": "stdin",
     "output_type": "stream",
     "text": [
      "Your Gender :  Male\n",
      "Your Age :  20\n"
     ]
    },
    {
     "name": "stdout",
     "output_type": "stream",
     "text": [
      "Not Eligible\n"
     ]
    }
   ],
   "source": [
    "Eligible()"
   ]
  },
  {
   "cell_type": "code",
   "execution_count": 24,
   "id": "9d078b46-07b5-4236-a8af-fe60e2bd418a",
   "metadata": {},
   "outputs": [],
   "source": [
    "def Percentage():\n",
    "    sub1=int(input(\"Subject1:\"))\n",
    "    sub2=int(input(\"Subject2:\"))\n",
    "    sub3=int(input(\"Subject3:\"))\n",
    "    sub4=int(input(\"Subject4:\"))\n",
    "    sub5=int(input(\"Subject5:\"))\n",
    "    Total=sub1+sub2+sub3+sub4+sub5\n",
    "    print(\"Total : \",Total)\n",
    "    percent=Total/500*100\n",
    "    print(\"Percentage : \",percent)"
   ]
  },
  {
   "cell_type": "code",
   "execution_count": 25,
   "id": "c3af7b6c-3a84-477a-b1eb-0ba05de05622",
   "metadata": {},
   "outputs": [
    {
     "name": "stdin",
     "output_type": "stream",
     "text": [
      "Subject1: 98\n",
      "Subject2: 87\n",
      "Subject3: 95\n",
      "Subject4: 95\n",
      "Subject5: 93\n"
     ]
    },
    {
     "name": "stdout",
     "output_type": "stream",
     "text": [
      "Total :  468\n",
      "Percentage :  93.60000000000001\n"
     ]
    }
   ],
   "source": [
    "Percentage()"
   ]
  },
  {
   "cell_type": "code",
   "execution_count": 28,
   "id": "4e441a56-5a45-4f6a-8355-5e579c54378e",
   "metadata": {},
   "outputs": [],
   "source": [
    "def Triangle():\n",
    "    Height=int(input(\"Height : \"))\n",
    "    Breadth=int(input(\"Breadth: \"))\n",
    "    print(\"Area formula: (Height*Breadth)/2\")\n",
    "    print(\"Area of Triangle:\",(Height*Breadth)/2)\n",
    "    Height1=int(input(\"Height1 : \"))\n",
    "    Height2=int(input(\"Height2 : \"))\n",
    "    Breadth=int(input(\"Breadth : \"))\n",
    "    print(\"Perimeter formula: Height1+Height2+Breadth\")\n",
    "    print(\"Perimeter of Triangle: \",Height1+Height2+Breadth)"
   ]
  },
  {
   "cell_type": "code",
   "execution_count": 29,
   "id": "12824991-cc5b-474c-a6a3-6e3c056c6228",
   "metadata": {},
   "outputs": [
    {
     "name": "stdin",
     "output_type": "stream",
     "text": [
      "Height :  32\n",
      "Breadth:  34\n"
     ]
    },
    {
     "name": "stdout",
     "output_type": "stream",
     "text": [
      "Area formula: (Height*Breadth)/2\n",
      "Area of Triangle: 544.0\n"
     ]
    },
    {
     "name": "stdin",
     "output_type": "stream",
     "text": [
      "Height1 :  2\n",
      "Height2 :  4\n",
      "Breadth :  4\n"
     ]
    },
    {
     "name": "stdout",
     "output_type": "stream",
     "text": [
      "Perimeter formula: Height1+Height2+Breadth\n",
      "Perimeter of Triangle:  10\n"
     ]
    }
   ],
   "source": [
    "Triangle()"
   ]
  },
  {
   "cell_type": "code",
   "execution_count": null,
   "id": "6addf541-6982-45fa-a66f-cca281af17a3",
   "metadata": {},
   "outputs": [],
   "source": []
  }
 ],
 "metadata": {
  "kernelspec": {
   "display_name": "Python 3 (ipykernel)",
   "language": "python",
   "name": "python3"
  },
  "language_info": {
   "codemirror_mode": {
    "name": "ipython",
    "version": 3
   },
   "file_extension": ".py",
   "mimetype": "text/x-python",
   "name": "python",
   "nbconvert_exporter": "python",
   "pygments_lexer": "ipython3",
   "version": "3.12.7"
  }
 },
 "nbformat": 4,
 "nbformat_minor": 5
}
