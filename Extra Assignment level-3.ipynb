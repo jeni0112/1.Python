{
 "cells": [
  {
   "cell_type": "code",
   "execution_count": 1,
   "id": "5794ad88-10a2-427d-bb15-a001cca8e6e5",
   "metadata": {},
   "outputs": [
    {
     "name": "stdin",
     "output_type": "stream",
     "text": [
      "Enter value: 10\n"
     ]
    },
    {
     "name": "stdout",
     "output_type": "stream",
     "text": [
      "CORRECT\n"
     ]
    }
   ],
   "source": [
    "val=int(input(\"Enter value:\"))\n",
    "if(val==10):\n",
    "    print(\"CORRECT\")"
   ]
  },
  {
   "cell_type": "code",
   "execution_count": 7,
   "id": "ad799cc4-0fc0-450e-8817-09ecdb8ae665",
   "metadata": {},
   "outputs": [
    {
     "name": "stdin",
     "output_type": "stream",
     "text": [
      "Enter the Password: HOPE@123\n"
     ]
    },
    {
     "name": "stdout",
     "output_type": "stream",
     "text": [
      "Your Password is Correct\n"
     ]
    }
   ],
   "source": [
    "val=input(\"Enter the Password:\")\n",
    "pval=\"HOPE@123\"\n",
    "if(val==pval):\n",
    "    print(\"Your Password is Correct\")\n",
    "else:\n",
    "    print(\"Your Password is Incorrect\")"
   ]
  },
  {
   "cell_type": "code",
   "execution_count": 10,
   "id": "bd0d0383-4be6-4b4f-b3fe-8980098b09d5",
   "metadata": {},
   "outputs": [
    {
     "name": "stdin",
     "output_type": "stream",
     "text": [
      "Enter Age: 20\n"
     ]
    },
    {
     "name": "stdout",
     "output_type": "stream",
     "text": [
      "Adult\n"
     ]
    }
   ],
   "source": [
    "age=int(input(\"Enter Age:\"))\n",
    "if(age<18):\n",
    "    print(\"Children\")\n",
    "elif(age<35):\n",
    "    print(\"Adult\")\n",
    "elif(age<60):\n",
    "    print(\"Citizen\")\n",
    "else:\n",
    "    print(\"Senior Citizen\")\n",
    "    "
   ]
  },
  {
   "cell_type": "code",
   "execution_count": 13,
   "id": "3ff1d39e-345b-4041-9c05-6c9fac367c25",
   "metadata": {},
   "outputs": [
    {
     "name": "stdin",
     "output_type": "stream",
     "text": [
      "Enter The Number: 1\n"
     ]
    },
    {
     "name": "stdout",
     "output_type": "stream",
     "text": [
      "Positive\n"
     ]
    }
   ],
   "source": [
    "num=int(input(\"Enter The Number:\"))\n",
    "if(num<0):\n",
    "    print(\"Negative\")\n",
    "else:\n",
    "    print(\"Positive\")"
   ]
  },
  {
   "cell_type": "code",
   "execution_count": 16,
   "id": "566f0975-496a-469e-b584-c711ef59e90b",
   "metadata": {},
   "outputs": [
    {
     "name": "stdin",
     "output_type": "stream",
     "text": [
      "Enter The Number: 22\n"
     ]
    },
    {
     "name": "stdout",
     "output_type": "stream",
     "text": [
      "No is Not Divisible by 5\n"
     ]
    }
   ],
   "source": [
    "num=int(input(\"Enter The Number:\"))\n",
    "val=num%5\n",
    "if(val==0):\n",
    "    print(\"No is Divisible by 5\")\n",
    "else:\n",
    "    print(\"No is Not Divisible by 5\")"
   ]
  },
  {
   "cell_type": "code",
   "execution_count": null,
   "id": "a2942702-d11a-43f0-b0ed-769e74be1314",
   "metadata": {},
   "outputs": [],
   "source": []
  }
 ],
 "metadata": {
  "kernelspec": {
   "display_name": "Python 3 (ipykernel)",
   "language": "python",
   "name": "python3"
  },
  "language_info": {
   "codemirror_mode": {
    "name": "ipython",
    "version": 3
   },
   "file_extension": ".py",
   "mimetype": "text/x-python",
   "name": "python",
   "nbconvert_exporter": "python",
   "pygments_lexer": "ipython3",
   "version": "3.12.7"
  }
 },
 "nbformat": 4,
 "nbformat_minor": 5
}
